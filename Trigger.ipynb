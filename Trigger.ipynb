{
 "cells": [
  {
   "cell_type": "code",
   "execution_count": 1,
   "id": "33bbd1b9",
   "metadata": {},
   "outputs": [],
   "source": [
    "import sqlite3\n",
    "import pandas as pd"
   ]
  },
  {
   "cell_type": "code",
   "execution_count": 2,
   "id": "192f4ab8",
   "metadata": {},
   "outputs": [],
   "source": [
    "path=\"yt_project.db\"\n",
    "timeout = 30  # Увеличение таймаута до 30 секунд"
   ]
  },
  {
   "cell_type": "markdown",
   "id": "ae086a16",
   "metadata": {},
   "source": [
    "### Триггер на мониторинг доходности по проекту"
   ]
  },
  {
   "cell_type": "markdown",
   "id": "c77e3820",
   "metadata": {},
   "source": [
    "Добавить колонку статуса"
   ]
  },
  {
   "cell_type": "code",
   "execution_count": 3,
   "id": "b4a075da",
   "metadata": {},
   "outputs": [],
   "source": [
    "with sqlite3.connect(path, timeout=timeout) as conn:\n",
    "    cursor = conn.cursor()\n",
    "    cursor.execute(\"ALTER TABLE Projects ADD COLUMN Status TEXT;\")"
   ]
  },
  {
   "cell_type": "markdown",
   "id": "ab1cd525",
   "metadata": {},
   "source": [
    "Ручной пересчет статуса проекта"
   ]
  },
  {
   "cell_type": "code",
   "execution_count": 4,
   "id": "00c851db",
   "metadata": {},
   "outputs": [],
   "source": [
    "def recalculate_project_status(project_id, cursor):\n",
    "    cursor.execute(\"SELECT SUM(Amount) FROM Incomes WHERE Project_ID = ?;\", (project_id,))\n",
    "    total_income = cursor.fetchone()[0] or 0\n",
    "\n",
    "    cursor.execute(\"SELECT SUM(Amount) FROM Costs WHERE Project_ID = ?;\", (project_id,))\n",
    "    total_cost = cursor.fetchone()[0] or 0\n",
    "\n",
    "    if total_income > total_cost:\n",
    "        status = 'Прибыльный'\n",
    "    else:\n",
    "        status = 'Убыточный'\n",
    "        \n",
    "    cursor.execute(\"UPDATE Projects SET Status = ? WHERE ID = ?;\", (status, project_id))"
   ]
  },
  {
   "cell_type": "code",
   "execution_count": 5,
   "id": "34bb058f",
   "metadata": {},
   "outputs": [
    {
     "data": {
      "text/html": [
       "<div>\n",
       "<style scoped>\n",
       "    .dataframe tbody tr th:only-of-type {\n",
       "        vertical-align: middle;\n",
       "    }\n",
       "\n",
       "    .dataframe tbody tr th {\n",
       "        vertical-align: top;\n",
       "    }\n",
       "\n",
       "    .dataframe thead th {\n",
       "        text-align: right;\n",
       "    }\n",
       "</style>\n",
       "<table border=\"1\" class=\"dataframe\">\n",
       "  <thead>\n",
       "    <tr style=\"text-align: right;\">\n",
       "      <th></th>\n",
       "      <th>ID</th>\n",
       "      <th>Title</th>\n",
       "      <th>Description</th>\n",
       "      <th>Status</th>\n",
       "    </tr>\n",
       "  </thead>\n",
       "  <tbody>\n",
       "    <tr>\n",
       "      <th>0</th>\n",
       "      <td>1</td>\n",
       "      <td>Мир Смеха</td>\n",
       "      <td>Проект о юморе и комедии.</td>\n",
       "      <td>Прибыльный</td>\n",
       "    </tr>\n",
       "    <tr>\n",
       "      <th>1</th>\n",
       "      <td>2</td>\n",
       "      <td>Горячие минуты</td>\n",
       "      <td>Проект о банях и отдыхе.</td>\n",
       "      <td>Убыточный</td>\n",
       "    </tr>\n",
       "    <tr>\n",
       "      <th>2</th>\n",
       "      <td>3</td>\n",
       "      <td>Темные дела</td>\n",
       "      <td>Проект о криминале и расследованиях.</td>\n",
       "      <td>Убыточный</td>\n",
       "    </tr>\n",
       "    <tr>\n",
       "      <th>3</th>\n",
       "      <td>4</td>\n",
       "      <td>Аргументы и факты</td>\n",
       "      <td>Проект о фактах и аргументах.</td>\n",
       "      <td>Прибыльный</td>\n",
       "    </tr>\n",
       "    <tr>\n",
       "      <th>4</th>\n",
       "      <td>5</td>\n",
       "      <td>Ночная история</td>\n",
       "      <td>Проект об историях на ночь.</td>\n",
       "      <td>Прибыльный</td>\n",
       "    </tr>\n",
       "    <tr>\n",
       "      <th>5</th>\n",
       "      <td>6</td>\n",
       "      <td>Женский голос</td>\n",
       "      <td>Проект о женском стендапе и разговорах.</td>\n",
       "      <td>Убыточный</td>\n",
       "    </tr>\n",
       "    <tr>\n",
       "      <th>6</th>\n",
       "      <td>7</td>\n",
       "      <td>В эфире</td>\n",
       "      <td>Проект о подкастах и обсуждениях.</td>\n",
       "      <td>Прибыльный</td>\n",
       "    </tr>\n",
       "    <tr>\n",
       "      <th>7</th>\n",
       "      <td>8</td>\n",
       "      <td>Легенды</td>\n",
       "      <td>Проект о биографиях великих людей.</td>\n",
       "      <td>Убыточный</td>\n",
       "    </tr>\n",
       "    <tr>\n",
       "      <th>8</th>\n",
       "      <td>9</td>\n",
       "      <td>Сцена и юмор</td>\n",
       "      <td>Проект о шоу и сценических выступлениях.</td>\n",
       "      <td>Прибыльный</td>\n",
       "    </tr>\n",
       "  </tbody>\n",
       "</table>\n",
       "</div>"
      ],
      "text/plain": [
       "   ID              Title                               Description      Status\n",
       "0   1          Мир Смеха                 Проект о юморе и комедии.  Прибыльный\n",
       "1   2     Горячие минуты                  Проект о банях и отдыхе.   Убыточный\n",
       "2   3        Темные дела      Проект о криминале и расследованиях.   Убыточный\n",
       "3   4  Аргументы и факты             Проект о фактах и аргументах.  Прибыльный\n",
       "4   5     Ночная история               Проект об историях на ночь.  Прибыльный\n",
       "5   6      Женский голос   Проект о женском стендапе и разговорах.   Убыточный\n",
       "6   7            В эфире         Проект о подкастах и обсуждениях.  Прибыльный\n",
       "7   8            Легенды        Проект о биографиях великих людей.   Убыточный\n",
       "8   9       Сцена и юмор  Проект о шоу и сценических выступлениях.  Прибыльный"
      ]
     },
     "metadata": {},
     "output_type": "display_data"
    }
   ],
   "source": [
    "with sqlite3.connect(path, timeout=timeout) as conn:\n",
    "    conn = sqlite3.connect(path)\n",
    "    cursor = conn.cursor()\n",
    "\n",
    "    cursor.execute(\"SELECT ID FROM Projects;\")\n",
    "    projects = cursor.fetchall()\n",
    "    try:\n",
    "        for project_id in projects:\n",
    "            recalculate_project_status(project_id[0], cursor)\n",
    "    \n",
    "        conn.commit()\n",
    "        display(pd.read_sql_query('SELECT * FROM Projects LIMIT 10;', conn) )\n",
    "    except Exception as e:\n",
    "        print(f\"Ошибка при выполнении скрипта: {e}\")    "
   ]
  },
  {
   "cell_type": "markdown",
   "id": "7328b802",
   "metadata": {},
   "source": [
    "Создание триггеров"
   ]
  },
  {
   "cell_type": "code",
   "execution_count": 6,
   "id": "12923fcb",
   "metadata": {},
   "outputs": [],
   "source": [
    "with sqlite3.connect(path, timeout=timeout) as conn:\n",
    "    cursor = conn.cursor()\n",
    "    \n",
    "    # Шаг 2: Создание триггеров\n",
    "    trigger_incomes = \"\"\"\n",
    "    CREATE TRIGGER AfterInsertIncomes\n",
    "    AFTER INSERT ON Incomes\n",
    "    FOR EACH ROW\n",
    "    BEGIN\n",
    "        UPDATE Projects\n",
    "        SET Status = CASE\n",
    "            WHEN (SELECT SUM(Amount) FROM Incomes WHERE Project_ID = NEW.Project_ID) >\n",
    "                 (SELECT SUM(Amount) FROM Costs WHERE Project_ID = NEW.Project_ID)\n",
    "            THEN 'Прибыльный'\n",
    "            ELSE 'Убыточный'\n",
    "        END\n",
    "        WHERE ID = NEW.Project_ID;\n",
    "    END;\n",
    "    \"\"\"\n",
    "    trigger_costs = \"\"\"\n",
    "    CREATE TRIGGER AfterInsertCosts\n",
    "    AFTER INSERT ON Costs\n",
    "    FOR EACH ROW\n",
    "    BEGIN\n",
    "        UPDATE Projects\n",
    "        SET Status = CASE\n",
    "            WHEN (SELECT SUM(Amount) FROM Incomes WHERE Project_ID = NEW.Project_ID) >\n",
    "                 (SELECT SUM(Amount) FROM Costs WHERE Project_ID = NEW.Project_ID)\n",
    "            THEN 'Прибыльный'\n",
    "            ELSE 'Убыточный'\n",
    "        END\n",
    "        WHERE ID = NEW.Project_ID;\n",
    "    END;\n",
    "    \"\"\"\n",
    "    cursor.execute(trigger_incomes)\n",
    "    cursor.execute(trigger_costs)"
   ]
  },
  {
   "cell_type": "markdown",
   "id": "67656b9d",
   "metadata": {},
   "source": [
    "Проверяем, что они добавились"
   ]
  },
  {
   "cell_type": "code",
   "execution_count": 7,
   "id": "ea47380e",
   "metadata": {},
   "outputs": [
    {
     "name": "stdout",
     "output_type": "stream",
     "text": [
      "Триггер: AfterInsertIncomes\n",
      "SQL: CREATE TRIGGER AfterInsertIncomes\n",
      "    AFTER INSERT ON Incomes\n",
      "    FOR EACH ROW\n",
      "    BEGIN\n",
      "        UPDATE Projects\n",
      "        SET Status = CASE\n",
      "            WHEN (SELECT SUM(Amount) FROM Incomes WHERE Project_ID = NEW.Project_ID) >\n",
      "                 (SELECT SUM(Amount) FROM Costs WHERE Project_ID = NEW.Project_ID)\n",
      "            THEN 'Прибыльный'\n",
      "            ELSE 'Убыточный'\n",
      "        END\n",
      "        WHERE ID = NEW.Project_ID;\n",
      "    END\n",
      "\n",
      "Триггер: AfterInsertCosts\n",
      "SQL: CREATE TRIGGER AfterInsertCosts\n",
      "    AFTER INSERT ON Costs\n",
      "    FOR EACH ROW\n",
      "    BEGIN\n",
      "        UPDATE Projects\n",
      "        SET Status = CASE\n",
      "            WHEN (SELECT SUM(Amount) FROM Incomes WHERE Project_ID = NEW.Project_ID) >\n",
      "                 (SELECT SUM(Amount) FROM Costs WHERE Project_ID = NEW.Project_ID)\n",
      "            THEN 'Прибыльный'\n",
      "            ELSE 'Убыточный'\n",
      "        END\n",
      "        WHERE ID = NEW.Project_ID;\n",
      "    END\n",
      "\n"
     ]
    }
   ],
   "source": [
    "with sqlite3.connect(path, timeout=timeout) as conn:\n",
    "    cursor = conn.cursor()\n",
    "    \n",
    "    cursor.execute(\"SELECT name, sql FROM sqlite_master WHERE type='trigger';\")\n",
    "    triggers = cursor.fetchall()\n",
    "\n",
    "    # Вывод списка триггеров\n",
    "    for trigger in triggers:\n",
    "        print(f\"Триггер: {trigger[0]}\\nSQL: {trigger[1]}\\n\")"
   ]
  },
  {
   "cell_type": "markdown",
   "id": "c37d69e3",
   "metadata": {},
   "source": [
    "Получим список проектов и их статус"
   ]
  },
  {
   "cell_type": "code",
   "execution_count": 8,
   "id": "2d33aa28",
   "metadata": {},
   "outputs": [
    {
     "data": {
      "text/html": [
       "<div>\n",
       "<style scoped>\n",
       "    .dataframe tbody tr th:only-of-type {\n",
       "        vertical-align: middle;\n",
       "    }\n",
       "\n",
       "    .dataframe tbody tr th {\n",
       "        vertical-align: top;\n",
       "    }\n",
       "\n",
       "    .dataframe thead th {\n",
       "        text-align: right;\n",
       "    }\n",
       "</style>\n",
       "<table border=\"1\" class=\"dataframe\">\n",
       "  <thead>\n",
       "    <tr style=\"text-align: right;\">\n",
       "      <th></th>\n",
       "      <th>ID</th>\n",
       "      <th>Title</th>\n",
       "      <th>Status</th>\n",
       "    </tr>\n",
       "  </thead>\n",
       "  <tbody>\n",
       "    <tr>\n",
       "      <th>0</th>\n",
       "      <td>3</td>\n",
       "      <td>Темные дела</td>\n",
       "      <td>Убыточный</td>\n",
       "    </tr>\n",
       "  </tbody>\n",
       "</table>\n",
       "</div>"
      ],
      "text/plain": [
       "   ID        Title     Status\n",
       "0   3  Темные дела  Убыточный"
      ]
     },
     "metadata": {},
     "output_type": "display_data"
    }
   ],
   "source": [
    "with sqlite3.connect(path, timeout=timeout) as conn:\n",
    "    cursor = conn.cursor()        \n",
    "    display(pd.read_sql_query('SELECT ID,Title, Status FROM Projects WHERE ID=3;', conn) )"
   ]
  },
  {
   "cell_type": "code",
   "execution_count": 9,
   "id": "024eca9b",
   "metadata": {},
   "outputs": [
    {
     "data": {
      "text/html": [
       "<div>\n",
       "<style scoped>\n",
       "    .dataframe tbody tr th:only-of-type {\n",
       "        vertical-align: middle;\n",
       "    }\n",
       "\n",
       "    .dataframe tbody tr th {\n",
       "        vertical-align: top;\n",
       "    }\n",
       "\n",
       "    .dataframe thead th {\n",
       "        text-align: right;\n",
       "    }\n",
       "</style>\n",
       "<table border=\"1\" class=\"dataframe\">\n",
       "  <thead>\n",
       "    <tr style=\"text-align: right;\">\n",
       "      <th></th>\n",
       "      <th>SUM(Amount)</th>\n",
       "    </tr>\n",
       "  </thead>\n",
       "  <tbody>\n",
       "    <tr>\n",
       "      <th>0</th>\n",
       "      <td>1113335</td>\n",
       "    </tr>\n",
       "  </tbody>\n",
       "</table>\n",
       "</div>"
      ],
      "text/plain": [
       "   SUM(Amount)\n",
       "0      1113335"
      ]
     },
     "metadata": {},
     "output_type": "display_data"
    },
    {
     "data": {
      "text/html": [
       "<div>\n",
       "<style scoped>\n",
       "    .dataframe tbody tr th:only-of-type {\n",
       "        vertical-align: middle;\n",
       "    }\n",
       "\n",
       "    .dataframe tbody tr th {\n",
       "        vertical-align: top;\n",
       "    }\n",
       "\n",
       "    .dataframe thead th {\n",
       "        text-align: right;\n",
       "    }\n",
       "</style>\n",
       "<table border=\"1\" class=\"dataframe\">\n",
       "  <thead>\n",
       "    <tr style=\"text-align: right;\">\n",
       "      <th></th>\n",
       "      <th>SUM(Amount)</th>\n",
       "    </tr>\n",
       "  </thead>\n",
       "  <tbody>\n",
       "    <tr>\n",
       "      <th>0</th>\n",
       "      <td>2590745</td>\n",
       "    </tr>\n",
       "  </tbody>\n",
       "</table>\n",
       "</div>"
      ],
      "text/plain": [
       "   SUM(Amount)\n",
       "0      2590745"
      ]
     },
     "metadata": {},
     "output_type": "display_data"
    }
   ],
   "source": [
    "with sqlite3.connect(path, timeout=timeout) as conn:\n",
    "    cursor = conn.cursor()        \n",
    "    display(pd.read_sql_query('SELECT SUM(Amount) FROM Incomes WHERE Project_ID=3 ;', conn) )\n",
    "    display(pd.read_sql_query('SELECT SUM(Amount) FROM Costs WHERE Project_ID=3 ;', conn) )\n"
   ]
  },
  {
   "cell_type": "code",
   "execution_count": 10,
   "id": "454a75b7",
   "metadata": {},
   "outputs": [
    {
     "data": {
      "text/html": [
       "<div>\n",
       "<style scoped>\n",
       "    .dataframe tbody tr th:only-of-type {\n",
       "        vertical-align: middle;\n",
       "    }\n",
       "\n",
       "    .dataframe tbody tr th {\n",
       "        vertical-align: top;\n",
       "    }\n",
       "\n",
       "    .dataframe thead th {\n",
       "        text-align: right;\n",
       "    }\n",
       "</style>\n",
       "<table border=\"1\" class=\"dataframe\">\n",
       "  <thead>\n",
       "    <tr style=\"text-align: right;\">\n",
       "      <th></th>\n",
       "      <th>ID</th>\n",
       "      <th>Project_ID</th>\n",
       "      <th>Category</th>\n",
       "      <th>Counterparty</th>\n",
       "      <th>CreationDate</th>\n",
       "      <th>Amount</th>\n",
       "    </tr>\n",
       "  </thead>\n",
       "  <tbody>\n",
       "    <tr>\n",
       "      <th>0</th>\n",
       "      <td>2</td>\n",
       "      <td>3</td>\n",
       "      <td>Продажа цифрового контента</td>\n",
       "      <td>Андреев Лимитед</td>\n",
       "      <td>2019-11-09</td>\n",
       "      <td>768009</td>\n",
       "    </tr>\n",
       "    <tr>\n",
       "      <th>1</th>\n",
       "      <td>23</td>\n",
       "      <td>3</td>\n",
       "      <td>Реклама в социальных сетях</td>\n",
       "      <td>ИКЕА Дом (INGKA)</td>\n",
       "      <td>2016-10-31</td>\n",
       "      <td>345326</td>\n",
       "    </tr>\n",
       "  </tbody>\n",
       "</table>\n",
       "</div>"
      ],
      "text/plain": [
       "   ID  Project_ID                    Category      Counterparty CreationDate  \\\n",
       "0   2           3  Продажа цифрового контента   Андреев Лимитед   2019-11-09   \n",
       "1  23           3  Реклама в социальных сетях  ИКЕА Дом (INGKA)   2016-10-31   \n",
       "\n",
       "   Amount  \n",
       "0  768009  \n",
       "1  345326  "
      ]
     },
     "metadata": {},
     "output_type": "display_data"
    }
   ],
   "source": [
    "with sqlite3.connect(path, timeout=timeout) as conn:\n",
    "    cursor = conn.cursor()        \n",
    "    display(pd.read_sql_query('SELECT * FROM Incomes WHERE Project_ID=3 ;', conn) )"
   ]
  },
  {
   "cell_type": "code",
   "execution_count": 11,
   "id": "204de8e7",
   "metadata": {},
   "outputs": [],
   "source": [
    "cursor.execute(\"INSERT INTO Incomes (ID, Project_ID, Category, Counterparty, CreationDate, Amount) VALUES (?, ?, ?, ?, ?, ?);\",\n",
    "               (31, 3, 'Продажа цифрового контента', 'Андреев Лимитед', '2019-11-09', 1477410+50000))\n",
    "conn.commit()"
   ]
  },
  {
   "cell_type": "markdown",
   "id": "13affa5d",
   "metadata": {},
   "source": [
    "Триггер сработал и статус корректно обновился"
   ]
  },
  {
   "cell_type": "code",
   "execution_count": 12,
   "id": "30a1a6c6",
   "metadata": {
    "scrolled": true
   },
   "outputs": [
    {
     "data": {
      "text/html": [
       "<div>\n",
       "<style scoped>\n",
       "    .dataframe tbody tr th:only-of-type {\n",
       "        vertical-align: middle;\n",
       "    }\n",
       "\n",
       "    .dataframe tbody tr th {\n",
       "        vertical-align: top;\n",
       "    }\n",
       "\n",
       "    .dataframe thead th {\n",
       "        text-align: right;\n",
       "    }\n",
       "</style>\n",
       "<table border=\"1\" class=\"dataframe\">\n",
       "  <thead>\n",
       "    <tr style=\"text-align: right;\">\n",
       "      <th></th>\n",
       "      <th>ID</th>\n",
       "      <th>Title</th>\n",
       "      <th>Status</th>\n",
       "    </tr>\n",
       "  </thead>\n",
       "  <tbody>\n",
       "    <tr>\n",
       "      <th>0</th>\n",
       "      <td>3</td>\n",
       "      <td>Темные дела</td>\n",
       "      <td>Прибыльный</td>\n",
       "    </tr>\n",
       "  </tbody>\n",
       "</table>\n",
       "</div>"
      ],
      "text/plain": [
       "   ID        Title      Status\n",
       "0   3  Темные дела  Прибыльный"
      ]
     },
     "metadata": {},
     "output_type": "display_data"
    }
   ],
   "source": [
    "with sqlite3.connect(path, timeout=timeout) as conn:\n",
    "    cursor = conn.cursor()        \n",
    "    display(pd.read_sql_query('SELECT ID, Title, Status FROM Projects WHERE ID=3;', conn) )"
   ]
  }
 ],
 "metadata": {
  "kernelspec": {
   "display_name": "Python 3 (ipykernel)",
   "language": "python",
   "name": "python3"
  },
  "language_info": {
   "codemirror_mode": {
    "name": "ipython",
    "version": 3
   },
   "file_extension": ".py",
   "mimetype": "text/x-python",
   "name": "python",
   "nbconvert_exporter": "python",
   "pygments_lexer": "ipython3",
   "version": "3.10.9"
  }
 },
 "nbformat": 4,
 "nbformat_minor": 5
}
